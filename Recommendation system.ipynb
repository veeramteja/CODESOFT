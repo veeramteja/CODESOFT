{
 "cells": [
  {
   "cell_type": "code",
   "execution_count": 1,
   "id": "971c51d8",
   "metadata": {},
   "outputs": [
    {
     "name": "stdout",
     "output_type": "stream",
     "text": [
      "Top movie recommendations for user 1:\n",
      "movie_id\n",
      "104    3.379074\n",
      "dtype: float64\n"
     ]
    }
   ],
   "source": [
    "import numpy as np\n",
    "import pandas as pd\n",
    "from sklearn.metrics.pairwise import cosine_similarity\n",
    "from sklearn.model_selection import train_test_split\n",
    "\n",
    "# Sample dataset of movie ratings by users\n",
    "data = {\n",
    "    'user_id': [1, 1, 1, 2, 2, 2, 3, 3, 4, 4],\n",
    "    'movie_id': [101, 102, 103, 101, 103, 104, 101, 104, 102, 103],\n",
    "    'rating': [5, 4, 3, 5, 4, 2, 3, 5, 4, 3]\n",
    "}\n",
    "\n",
    "# Convert data into a Pandas DataFrame\n",
    "df = pd.DataFrame(data)\n",
    "\n",
    "# Create a pivot table where rows are users and columns are movies\n",
    "user_movie_matrix = df.pivot_table(index='user_id', columns='movie_id', values='rating')\n",
    "\n",
    "# Fill NaN values with 0 (movies that haven't been rated by a user)\n",
    "user_movie_matrix.fillna(0, inplace=True)\n",
    "\n",
    "# Compute the cosine similarity between users\n",
    "user_similarity = cosine_similarity(user_movie_matrix)\n",
    "\n",
    "# Convert to a DataFrame for better readability\n",
    "user_similarity_df = pd.DataFrame(user_similarity, index=user_movie_matrix.index, columns=user_movie_matrix.index)\n",
    "\n",
    "# Function to get movie recommendations for a user based on user-user collaborative filtering\n",
    "def get_recommendations(user_id, num_recommendations=2):\n",
    "    # Find similar users to the input user\n",
    "    similar_users = user_similarity_df[user_id].sort_values(ascending=False)[1:]  # Exclude the user themselves\n",
    "\n",
    "    # Get the movies watched by the similar users\n",
    "    watched_by_similar_users = user_movie_matrix.loc[similar_users.index]\n",
    "    \n",
    "    # Calculate the weighted sum of ratings based on similarity scores\n",
    "    weighted_ratings = np.dot(similar_users.values, watched_by_similar_users)\n",
    "    \n",
    "    # Create a recommendation score for each movie by averaging ratings from similar users\n",
    "    recommendation_scores = pd.Series(weighted_ratings, index=user_movie_matrix.columns)\n",
    "    \n",
    "    # Remove movies the user has already watched\n",
    "    watched_movies = user_movie_matrix.loc[user_id]\n",
    "    recommendation_scores = recommendation_scores[watched_movies == 0]\n",
    "    \n",
    "    # Return the top N recommendations\n",
    "    return recommendation_scores.nlargest(num_recommendations)\n",
    "\n",
    "# Example usage\n",
    "user_id = 1  # Recommend movies for user 1\n",
    "recommendations = get_recommendations(user_id)\n",
    "print(f\"Top movie recommendations for user {user_id}:\")\n",
    "print(recommendations)\n"
   ]
  },
  {
   "cell_type": "code",
   "execution_count": null,
   "id": "46bf75e0",
   "metadata": {},
   "outputs": [],
   "source": []
  }
 ],
 "metadata": {
  "kernelspec": {
   "display_name": "Python 3 (ipykernel)",
   "language": "python",
   "name": "python3"
  },
  "language_info": {
   "codemirror_mode": {
    "name": "ipython",
    "version": 3
   },
   "file_extension": ".py",
   "mimetype": "text/x-python",
   "name": "python",
   "nbconvert_exporter": "python",
   "pygments_lexer": "ipython3",
   "version": "3.11.5"
  }
 },
 "nbformat": 4,
 "nbformat_minor": 5
}
