{
 "cells": [
  {
   "cell_type": "code",
   "execution_count": 7,
   "id": "97e55505",
   "metadata": {},
   "outputs": [
    {
     "name": "stdout",
     "output_type": "stream",
     "text": [
      "Chatbot: Hello! I am your chatbot. Type 'bye' to exit.\n",
      "You: Hi\n",
      "Chatbot: Hello! How can I assist you today?\n",
      "You: what is time now?\n",
      "Chatbot: The current time is 14:47.\n",
      "You: who are you?\n",
      "Chatbot: I am a simple rule-based chatbot, here to assist you with basic queries.\n",
      "You: bye\n",
      "Chatbot: Goodbye! Have a nice day!\n"
     ]
    }
   ],
   "source": [
    "# Simple Rule-Based Chatbot\n",
    "\n",
    "def chatbot_response(user_input):\n",
    "    # Convert user input to lowercase to handle case-insensitive matching\n",
    "    user_input = user_input.lower()\n",
    "\n",
    "    # Basic greeting response\n",
    "    if \"hello\" in user_input or \"hi\" in user_input:\n",
    "        return \"Hello! How can I assist you today?\"\n",
    "\n",
    "    # Responding to queries about the chatbot\n",
    "    elif \"who are you\" in user_input or \"what are you\" in user_input:\n",
    "        return \"I am a simple rule-based chatbot, here to assist you with basic queries.\"\n",
    "\n",
    "    # Handling \"how are you\" queries\n",
    "    elif \"how are you\" in user_input:\n",
    "        return \"I'm just a program, but I'm doing great! How about you?\"\n",
    "\n",
    "    # Responding to time queries\n",
    "    elif \"time\" in user_input:\n",
    "        from datetime import datetime\n",
    "        current_time = datetime.now().strftime(\"%H:%M\")\n",
    "        return f\"The current time is {current_time}.\"\n",
    "\n",
    "    # Responding to date queries\n",
    "    elif \"date\" in user_input:\n",
    "        from datetime import datetime\n",
    "        current_date = datetime.now().strftime(\"%Y-%m-%d\")\n",
    "        return f\"Today's date is {current_date}.\"\n",
    "\n",
    "    # Farewell response\n",
    "    elif \"bye\" in user_input or \"goodbye\" in user_input:\n",
    "        return \"Goodbye! Have a great day!\"\n",
    "\n",
    "    # Catch-all response for unknown queries\n",
    "    else:\n",
    "        return \"Sorry, I don't understand that. Can you ask something else?\"\n",
    "\n",
    "# Function to start the chatbot\n",
    "def start_chatbot():\n",
    "    print(\"Chatbot: Hello! I am your chatbot. Type 'bye' to exit.\")\n",
    "    while True:\n",
    "        # Get user input\n",
    "        user_input = input(\"You: \")\n",
    "\n",
    "        # If the user types 'bye', end the conversation\n",
    "        if user_input.lower() == 'bye':\n",
    "            print(\"Chatbot: Goodbye! Have a nice day!\")\n",
    "            break\n",
    "        \n",
    "        # Get the chatbot's response and print it\n",
    "        response = chatbot_response(user_input)\n",
    "        print(f\"Chatbot: {response}\")\n",
    "\n",
    "# Start the chatbot\n",
    "if __name__ == \"__main__\":\n",
    "    start_chatbot()\n"
   ]
  },
  {
   "cell_type": "code",
   "execution_count": null,
   "id": "f73737bd",
   "metadata": {},
   "outputs": [],
   "source": []
  }
 ],
 "metadata": {
  "kernelspec": {
   "display_name": "Python 3 (ipykernel)",
   "language": "python",
   "name": "python3"
  },
  "language_info": {
   "codemirror_mode": {
    "name": "ipython",
    "version": 3
   },
   "file_extension": ".py",
   "mimetype": "text/x-python",
   "name": "python",
   "nbconvert_exporter": "python",
   "pygments_lexer": "ipython3",
   "version": "3.11.5"
  }
 },
 "nbformat": 4,
 "nbformat_minor": 5
}
